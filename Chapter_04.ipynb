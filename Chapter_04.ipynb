{
 "cells": [
  {
   "cell_type": "markdown",
   "metadata": {},
   "source": [
    "# แบบฝึกหัดบทที่ 4 พื้นฐานโปรแกรมไพธอน"
   ]
  },
  {
   "cell_type": "code",
   "execution_count": 16,
   "metadata": {},
   "outputs": [
    {
     "data": {
      "text/plain": [
       "' \\nปฐม - กล่อมปํญญา - 6512732104\\nปฐม กล่อมปัญญา 6512732104\\n\\n\\n'"
      ]
     },
     "execution_count": 16,
     "metadata": {},
     "output_type": "execute_result"
    }
   ],
   "source": [
    "\"\"\" \n",
    "ปฐม - กล่อมปํญญา - 6512732104\n",
    "ปฐม กล่อมปัญญา 6512732104\n",
    "\n",
    "\n",
    "\"\"\""
   ]
  },
  {
   "cell_type": "markdown",
   "metadata": {},
   "source": [
    "## 1. จงอธิบายความหมายของคำว่า Syntax"
   ]
  },
  {
   "cell_type": "code",
   "execution_count": 17,
   "metadata": {
    "collapsed": true,
    "jupyter": {
     "outputs_hidden": true
    },
    "tags": []
   },
   "outputs": [
    {
     "ename": "SyntaxError",
     "evalue": "invalid syntax (2554123720.py, line 2)",
     "output_type": "error",
     "traceback": [
      "\u001b[1;36m  File \u001b[1;32m\"C:\\Users\\COMCENTER_SSKRU\\AppData\\Local\\Temp\\ipykernel_5364\\2554123720.py\"\u001b[1;36m, line \u001b[1;32m2\u001b[0m\n\u001b[1;33m    หลักไวยากรณ์ คือ  ระเบียบกฎเกณฑ์ของภาษาที่ใช้ในการเขียนโปรแกรม ซึ่งมีลักษณะเช่นเดียวกับไวยากรณ์ หรือ grammar ในภาษามนุษย์ตามปกติ\u001b[0m\n\u001b[1;37m                 ^\u001b[0m\n\u001b[1;31mSyntaxError\u001b[0m\u001b[1;31m:\u001b[0m invalid syntax\n"
     ]
    }
   ],
   "source": [
    "# คำตอบ\n",
    "หลักไวยากรณ์ คือ ระเบียบกฎเกณฑ์ของภาษาที่ใช้ในการเขียนโปรแกรม ซึ่งมีลักษณะเช่นเดียวกับไวยากรณ์ หรือ grammar ในภาษามนุษย์ตามปกติ\n"
   ]
  },
  {
   "cell_type": "markdown",
   "metadata": {
    "tags": []
   },
   "source": [
    "## 2.จงอธิบายความหมายของคำว่า Semantics"
   ]
  },
  {
   "cell_type": "code",
   "execution_count": null,
   "metadata": {},
   "outputs": [],
   "source": [
    "# คำตอบ \n",
    "     สัมพันธภาพระหว่างคำกับสัญลักษณ์ในภาษาที่ใช้การเขียนโปรแกรมหรือชุดคำสั่ง รวมทั้งความหมายที่กำหนดให้สำหรับคำและสัญลักษณ์นั้น ๆ ด้วย \n",
    "อย่างไรก็ตาม คำสั่งต่าง ๆ ในการเขียนโปรแกรมหรือชุดคำสั่งมักใช้อธิบายด้วยภาษาคณิตศาสตร์ เพราะมีความชัดเจนแน่นอน\n"
   ]
  },
  {
   "cell_type": "markdown",
   "metadata": {},
   "source": [
    "## 3.Identifiers คืออะไร"
   ]
  },
  {
   "cell_type": "code",
   "execution_count": null,
   "metadata": {},
   "outputs": [],
   "source": [
    "# คำตอบ\n",
    "การประกาศชื่อตัวแปร คลาส และฟังก์ชัน\n"
   ]
  },
  {
   "cell_type": "markdown",
   "metadata": {},
   "source": [
    "## 4.คำสงวนในภาษาไพธอนคืออะไร และมีทั้งหมดกี่คำ"
   ]
  },
  {
   "cell_type": "code",
   "execution_count": null,
   "metadata": {},
   "outputs": [],
   "source": [
    "# คำตอบ\n",
    "คือชื่อหรือคำที่ภาษา Python (ไพทอน) ไว้ใช้เฉพาะเพื่อเป็นคำสั่ง หรือมีไว้เพื่อเขียนเป็นโครงสร้างของตัวภาษาเอง \n",
    "โดยคำสงวนของ Python จะมีทั้งหมด 31 คำ ดังนี้\n",
    "\n",
    "\n",
    "\n"
   ]
  },
  {
   "cell_type": "markdown",
   "metadata": {},
   "source": [
    "## 5.จงเขียนโปรแกรมไพธอนเพื่อรับข้อมูล ที่เป็นชื่อผู้ใช้งานจากแป้นพิมพ์และแสดงออกทางหน้าจอ"
   ]
  },
  {
   "cell_type": "code",
   "execution_count": 3,
   "metadata": {},
   "outputs": [
    {
     "name": "stdin",
     "output_type": "stream",
     "text": [
      "your name pathom klompanya\n"
     ]
    },
    {
     "name": "stdout",
     "output_type": "stream",
     "text": [
      "pathom klompanya\n"
     ]
    }
   ],
   "source": [
    "# พิมพ์โค้ดโปรแกรมด้านล่างนี้\n",
    "a = input(\"your name\")\n",
    "print(a)"
   ]
  },
  {
   "cell_type": "markdown",
   "metadata": {},
   "source": [
    "## 6.จงเขียนโปรแกรมเพื่อแสดงค่าของ pi คือ 3.14159 ออกทางหน้าจอโดยทำการกำหนดรูปแบบในการแสดงผลดังต่อไปนี้\n",
    "\n",
    "- pi = 3\n",
    "- pi = 3.14\n",
    "- pi = 3.1416\n"
   ]
  },
  {
   "cell_type": "code",
   "execution_count": 6,
   "metadata": {},
   "outputs": [
    {
     "name": "stdout",
     "output_type": "stream",
     "text": [
      "pi = 3\n",
      "pi = 3.14\n",
      "pi = 3.1416\n"
     ]
    }
   ],
   "source": [
    "# พิมพ์โค้ดโปรแกรมด้านล่างนี้\n",
    "pi = 3.14159\n",
    "print('pi = {:.0f}'.format(pi)) \n",
    "print('pi = {:.2f}'.format(pi))\n",
    "print('pi = {:.4f}'.format(pi))\n"
   ]
  },
  {
   "cell_type": "markdown",
   "metadata": {},
   "source": []
  },
  {
   "cell_type": "markdown",
   "metadata": {},
   "source": [
    "## 7.\tจงเขียนโปรแกรมที่แสดงคำว่า \"dog\", \"cat\", \"bat\" ออกทางหน้าจอ โดยกำหนดรูปแบบในการแสดงดังต่อไปนี้"
   ]
  },
  {
   "cell_type": "code",
   "execution_count": null,
   "metadata": {},
   "outputs": [],
   "source": [
    "\"\"\" \n",
    "|dog       |   cat    |       bat| \n",
    "\"\"\""
   ]
  },
  {
   "cell_type": "code",
   "execution_count": 12,
   "metadata": {},
   "outputs": [
    {
     "name": "stdout",
     "output_type": "stream",
     "text": [
      "|dog       |   cat    |       bat|\n"
     ]
    }
   ],
   "source": [
    "# พิมพ์โค้ดโปรแกรมด้านล่างนี้\n",
    "print(\"|{0:<10}|{1:^10}|{2:>10}|\".format(\"dog\", \"cat\", \"bat\"))  \n"
   ]
  },
  {
   "cell_type": "markdown",
   "metadata": {},
   "source": [
    "## 8.\tจงเขียนโปรแกรมที่แสดงคำว่า \"dog\", \"cat\", \"bat\" ออกทางหน้าจอ โดยกำหนดรูปแบบในการแสดงดังต่อไปนี้"
   ]
  },
  {
   "cell_type": "code",
   "execution_count": null,
   "metadata": {},
   "outputs": [],
   "source": [
    "\"\"\" \n",
    "|dog*******|***cat****|*******bat| \n",
    "\"\"\""
   ]
  },
  {
   "cell_type": "code",
   "execution_count": 15,
   "metadata": {},
   "outputs": [
    {
     "name": "stdout",
     "output_type": "stream",
     "text": [
      "|dog*******|***cat****|*******bat|\n"
     ]
    }
   ],
   "source": [
    "# พิมพ์โค้ดโปรแกรมด้านล่างนี้\n",
    "print(\"|{0:*<10s}|{1:*^10s}|{2:*>10s}|\".format(\"dog\", \"cat\", \"bat\"))\n"
   ]
  },
  {
   "cell_type": "code",
   "execution_count": null,
   "metadata": {},
   "outputs": [],
   "source": []
  }
 ],
 "metadata": {
  "interpreter": {
   "hash": "40d3a090f54c6569ab1632332b64b2c03c39dcf918b08424e98f38b5ae0af88f"
  },
  "kernelspec": {
   "display_name": "Python 3 (ipykernel)",
   "language": "python",
   "name": "python3"
  },
  "language_info": {
   "codemirror_mode": {
    "name": "ipython",
    "version": 3
   },
   "file_extension": ".py",
   "mimetype": "text/x-python",
   "name": "python",
   "nbconvert_exporter": "python",
   "pygments_lexer": "ipython3",
   "version": "3.9.13"
  }
 },
 "nbformat": 4,
 "nbformat_minor": 4
}
