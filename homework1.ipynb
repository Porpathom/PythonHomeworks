{
 "cells": [
  {
   "cell_type": "markdown",
   "id": "afb79c20-fd0a-4538-b56a-3b654ef9b141",
   "metadata": {},
   "source": [
    "ใบงานที่ 1:การส่งการบ้านทาง Git"
   ]
  },
  {
   "cell_type": "raw",
   "id": "c7b8e51d-533d-4dc7-9d4a-55844b13e7db",
   "metadata": {},
   "source": [
    "นายปฐม กล่อมปัญญา 6512732104"
   ]
  },
  {
   "cell_type": "code",
   "execution_count": 1,
   "id": "0b443d54-4877-4532-b241-01dc1e8de070",
   "metadata": {},
   "outputs": [
    {
     "name": "stdout",
     "output_type": "stream",
     "text": [
      "hello world\n"
     ]
    }
   ],
   "source": [
    " print (\"hello world\")"
   ]
  },
  {
   "cell_type": "code",
   "execution_count": 2,
   "id": "fa7abcb8-f0ce-434f-abe9-145f9c9e4db2",
   "metadata": {},
   "outputs": [
    {
     "name": "stdout",
     "output_type": "stream",
     "text": [
      "นายปฐม กล่อมปัญญา 6512732104\n"
     ]
    }
   ],
   "source": [
    "print (\"นายปฐม กล่อมปัญญา 6512732104\")"
   ]
  },
  {
   "cell_type": "code",
   "execution_count": null,
   "id": "01348479-eda0-4da8-bf05-0bd9e8f8f240",
   "metadata": {},
   "outputs": [],
   "source": []
  }
 ],
 "metadata": {
  "kernelspec": {
   "display_name": "Python 3 (ipykernel)",
   "language": "python",
   "name": "python3"
  },
  "language_info": {
   "codemirror_mode": {
    "name": "ipython",
    "version": 3
   },
   "file_extension": ".py",
   "mimetype": "text/x-python",
   "name": "python",
   "nbconvert_exporter": "python",
   "pygments_lexer": "ipython3",
   "version": "3.9.13"
  }
 },
 "nbformat": 4,
 "nbformat_minor": 5
}
